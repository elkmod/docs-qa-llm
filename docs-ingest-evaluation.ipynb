{
 "cells": [
  {
   "cell_type": "code",
   "execution_count": 1,
   "id": "2d44b8cb",
   "metadata": {},
   "outputs": [],
   "source": [
    "import os\n",
    "from langchain.text_splitter import CharacterTextSplitter\n",
    "from langchain.embeddings.openai import OpenAIEmbeddings\n",
    "from langchain.vectorstores.faiss import FAISS\n",
    "from langchain import OpenAI, VectorDBQA, PromptTemplate"
   ]
  },
  {
   "cell_type": "code",
   "execution_count": 100,
   "id": "9589f94d",
   "metadata": {},
   "outputs": [],
   "source": [
    "# In this notebook we are loading in a subset of the documents from our developer documentation and\n",
    "# use embeddings and a vector store to perform a similarity search from a question query to these documents.\n",
    "# We then use a language model to generate an answer based on the results from the search."
   ]
  },
  {
   "cell_type": "code",
   "execution_count": 77,
   "id": "b8179a08",
   "metadata": {},
   "outputs": [],
   "source": [
    "# Parse all documentation files in docs/ directory and create two lists containing the content and metadata\n",
    "\n",
    "docs = []\n",
    "metadatas = []\n",
    "\n",
    "for path, currentDir, files in os.walk('docs/'):\n",
    "    for file in files:\n",
    "        file_path = os.path.join(path, file)\n",
    "        with open(file_path) as f:\n",
    "            docs.append(f.read())\n",
    "            metadatas.append({\"source\": file_path})"
   ]
  },
  {
   "cell_type": "code",
   "execution_count": 78,
   "id": "a6deef67",
   "metadata": {},
   "outputs": [
    {
     "name": "stdout",
     "output_type": "stream",
     "text": [
      "252\n"
     ]
    }
   ],
   "source": [
    "print(len(docs))"
   ]
  },
  {
   "cell_type": "code",
   "execution_count": 79,
   "id": "8b63241f",
   "metadata": {},
   "outputs": [],
   "source": [
    "# Read Files"
   ]
  },
  {
   "cell_type": "code",
   "execution_count": 80,
   "id": "ef1820cb",
   "metadata": {},
   "outputs": [],
   "source": [
    "text_splitter = CharacterTextSplitter(\n",
    "    separator=\"\\n\",\n",
    "    chunk_size=1000,\n",
    "    chunk_overlap=200,\n",
    "    length_function=len,\n",
    ")"
   ]
  },
  {
   "cell_type": "code",
   "execution_count": 81,
   "id": "295b8315",
   "metadata": {},
   "outputs": [],
   "source": [
    "# Create documents"
   ]
  },
  {
   "cell_type": "code",
   "execution_count": 82,
   "id": "d76dfb39",
   "metadata": {},
   "outputs": [
    {
     "name": "stderr",
     "output_type": "stream",
     "text": [
      "Created a chunk of size 1337, which is longer than the specified 1000\n"
     ]
    }
   ],
   "source": [
    "documents = text_splitter.create_documents(docs, metadatas=metadatas)"
   ]
  },
  {
   "cell_type": "code",
   "execution_count": 83,
   "id": "66bc485e",
   "metadata": {},
   "outputs": [
    {
     "name": "stdout",
     "output_type": "stream",
     "text": [
      "1916\n"
     ]
    }
   ],
   "source": [
    "print(len(documents))"
   ]
  },
  {
   "cell_type": "code",
   "execution_count": 85,
   "id": "eb8299e3",
   "metadata": {},
   "outputs": [
    {
     "name": "stdout",
     "output_type": "stream",
     "text": [
      "Time Lapsed = 0:10:24\n"
     ]
    }
   ],
   "source": [
    "# Create vector store (this step takes around 10 minutes on my Mac M1, but only has to be performed once)\n",
    "import time\n",
    "\n",
    "def time_convert(sec):\n",
    "  mins = sec // 60\n",
    "  sec = sec % 60\n",
    "  hours = mins // 60\n",
    "  mins = mins % 60\n",
    "  print(\"Time Lapsed = {0}:{1}:{2}\".format(int(hours),int(mins),int(sec)))\n",
    "\n",
    "# Start stopwatch\n",
    "start_time = time.time()\n",
    "\n",
    "embeddings = OpenAIEmbeddings()\n",
    "\n",
    "# Perform similarity search\n",
    "docsearch = FAISS.from_documents(documents, embeddings)\n",
    "\n",
    "# End stopwatch\n",
    "end_time = time.time()\n",
    "time_lapsed = end_time - start_time\n",
    "time_convert(time_lapsed)"
   ]
  },
  {
   "cell_type": "code",
   "execution_count": 42,
   "id": "68dcdb46",
   "metadata": {},
   "outputs": [],
   "source": [
    "# Define QA chain\n",
    "# Here we connect the calculated vector store and the language model\n",
    "qa = VectorDBQA.from_chain_type(llm=OpenAI(), chain_type=\"stuff\", vectorstore=docsearch)"
   ]
  },
  {
   "cell_type": "code",
   "execution_count": 95,
   "id": "12041e6b",
   "metadata": {},
   "outputs": [],
   "source": [
    "# Prompt template (feel free to adapt this one)\n",
    "template = \"\"\"\n",
    "You are an AI assistant for the developer documentation of the eCommerce API Backend Shopware. The documentation is located at https://developer.shopware.com.\n",
    "You are given the following extracted parts of a long document and a question.\n",
    "If the question includes a request for code, provide a code block directly from the documentation.\n",
    "Pay special attention to differ between a Shopware 6 App and a Plugin.\n",
    "If you don't know the answer, just say \"Hmm, I'm not sure.\" Don't try to make up an answer.\n",
    "If the question is not about Shopware, politely inform them that you are tuned to only answer questions about Shopware.\n",
    "Question: {question}\n",
    "=========\n",
    "Answer in Markdown:\n",
    "\n",
    "\"\"\"\n",
    "\n",
    "prompt = PromptTemplate(template=template, input_variables=[\"question\"])"
   ]
  },
  {
   "cell_type": "code",
   "execution_count": 101,
   "id": "5c9149fe",
   "metadata": {},
   "outputs": [
    {
     "name": "stdout",
     "output_type": "stream",
     "text": [
      " An indexer is used to optimize the performance of recurring complex tasks. A good example of this is the cheapest price calculation within Shopware. The indexer will calculate the cheapest price of a product whenever the product is updated by the Data Abstraction Layer (DAL). This means that no new calculation has to be performed when a product is read, and performance during reading is significantly increased. Furthermore, data indexers can make use of the message queue to handle the calculations asynchronously.\n"
     ]
    }
   ],
   "source": [
    "# Evaluate and display result\n",
    "\n",
    "print(qa.run(prompt.format(question=\"What is an indexer used for?\")))"
   ]
  },
  {
   "cell_type": "code",
   "execution_count": 102,
   "id": "a64820a4",
   "metadata": {},
   "outputs": [
    {
     "name": "stdout",
     "output_type": "stream",
     "text": [
      "\n",
      "Filters are used to only find specific data from the database. Shopware 6's data abstraction layer supports multiple types of filters, such as `equals`, `greaterThan`, `lessThan`, `not` and `contains`. You can use these filters together when writing a custom query or when using repositories.\n"
     ]
    }
   ],
   "source": [
    "# Below are some more examples, feel free to adapt them to test.\n",
    "\n",
    "print(qa.run(prompt.format(question=\"What types of filters are there?\")))"
   ]
  },
  {
   "cell_type": "code",
   "execution_count": 103,
   "id": "c13c083c",
   "metadata": {},
   "outputs": [
    {
     "name": "stdout",
     "output_type": "stream",
     "text": [
      " The Data Abstraction Layer (DAL) is the data handling layer used in Shopware 6. It is a thin layer that sits between the application and the database. Unlike most other Symfony applications, Shopware 6 uses no ORM but rather a thin Data Abstraction Layer which can be accessed directly.\n"
     ]
    }
   ],
   "source": [
    "print(qa.run(prompt.format(question=\"What is the DAL?\")))"
   ]
  },
  {
   "cell_type": "code",
   "execution_count": 31,
   "id": "5c5be313",
   "metadata": {},
   "outputs": [
    {
     "name": "stdout",
     "output_type": "stream",
     "text": [
      " To use the Data Abstraction Layer (DAL), you need to understand the concept behind it, which can be found in our documentation [here](../../../../../concepts/framework/data-abstraction-layer). Additionally, you need to read the guide about [reading data](reading-data) and [writing data](writing-data) to understand how to use the DAL for both tasks.\n"
     ]
    }
   ],
   "source": [
    "print(qa.run(prompt.format(question=\"How do I use the DAL?\")))"
   ]
  },
  {
   "cell_type": "code",
   "execution_count": 32,
   "id": "4f971921",
   "metadata": {},
   "outputs": [
    {
     "name": "stdout",
     "output_type": "stream",
     "text": [
      " Yes, you can use the Data Abstraction Layer (DAL) to build APIs. Please refer to our [API documentation](https://developer.shopware.com/documentation/api) and the [DAL documentation](https://developer.shopware.com/documentation/concepts/framework/data-abstraction-layer) for more information.\n"
     ]
    }
   ],
   "source": [
    "print(qa.run(prompt.format(question=\"Can I use the DAL to build an API?\")))"
   ]
  },
  {
   "cell_type": "code",
   "execution_count": 33,
   "id": "4eae3787",
   "metadata": {},
   "outputs": [
    {
     "name": "stdout",
     "output_type": "stream",
     "text": [
      "\n",
      "Yes, the Data Abstraction Layer supports inheritance for custom entities. You can find more information about this in the [concepts guide about the DAL](../../../../../concepts/framework/data-abstraction-layer#inheritance).\n"
     ]
    }
   ],
   "source": [
    "print(qa.run(prompt.format(question=\"Does the DAL support inheritance?\")))"
   ]
  },
  {
   "cell_type": "code",
   "execution_count": 36,
   "id": "4cf207ae",
   "metadata": {},
   "outputs": [
    {
     "name": "stdout",
     "output_type": "stream",
     "text": [
      "\n",
      "You can add translations to entities. For more information, check out the guide on [Adding data translations](../../plugins-backend/add-data-translations). There is also a video from our free online training [\"Backend Development\"](https://academy.shopware.com/courses/shopware-6-backend-development-with-jisse-reitsma) about [Translating your entity](https://www.youtube.com/watch?v=FfqxfQl3I4w).\n"
     ]
    }
   ],
   "source": [
    "print(qa.run(prompt.format(question=\"How about translations?\")))"
   ]
  },
  {
   "cell_type": "code",
   "execution_count": 37,
   "id": "162dcec0",
   "metadata": {},
   "outputs": [
    {
     "name": "stdout",
     "output_type": "stream",
     "text": [
      "\n",
      "You can add attributes to existing entities by creating a new database table with a plugin migration. Please refer to the [Plugin migrations](../../plugin-fundamentals/database-migrations) guide for more information.\n"
     ]
    }
   ],
   "source": [
    "print(qa.run(prompt.format(question=\"How can I add attributes to existing entites\")))"
   ]
  },
  {
   "cell_type": "code",
   "execution_count": 38,
   "id": "1cb4699c",
   "metadata": {},
   "outputs": [
    {
     "name": "stdout",
     "output_type": "stream",
     "text": [
      "\n",
      "The best way to extend an entity is to create a custom extension class that extends from the abstract `Shopware\\Core\\Framework\\DataAbstractionLayer\\EntityExtension` class and add your fields in the `extendFields` method. You can see an example of this below. \n",
      "\n",
      "<CodeBlock title=\"<plugin root>/src/Extension/Content/Product/CustomExtension.php\">\n",
      "\n",
      "```php\n",
      "<?php declare(strict_types=1);\n",
      "\n",
      "namespace Swag\\BasicExample\\Extension\\Content\\Product;\n",
      "\n",
      "use Shopware\\Core\\Content\\Product\\ProductDefinition;\n",
      "use Shopware\\Core\\Framework\\DataAbstractionLayer\\EntityExtension;\n",
      "use Shopware\\Core\\Framework\\DataAbstractionLayer\\FieldCollection;\n",
      "\n",
      "class CustomExtension extends EntityExtension\n",
      "{\n",
      "    public function extendFields(FieldCollection $collection): void\n",
      "    {\n",
      "        $collection->add(\n",
      "            // new fields here\n",
      "        );\n",
      "    }\n",
      "\n",
      "    public function getDefinitionClass(): string\n",
      "    {\n",
      "        return ProductDefinition::class;\n",
      "    }\n",
      "}\n",
      "```\n",
      "\n"
     ]
    }
   ],
   "source": [
    "print(qa.run(prompt.format(question=\"What is the best way to extend an entity?\")))"
   ]
  },
  {
   "cell_type": "code",
   "execution_count": 87,
   "id": "77816b2d",
   "metadata": {},
   "outputs": [
    {
     "name": "stdout",
     "output_type": "stream",
     "text": [
      " Yes, it is possible to search by invoice number. You can apply a `EqualsFilter` to the `Criteria` object, which accepts a field name and the value to search for. You can find the `EqualsFilter` here `Shopware\\Core\\Framework\\DataAbstractionLayer\\Search\\Filter\\EqualsFilter`.\n",
      "\n",
      "Example:\n",
      "\n",
      "```php\n",
      "public function readData(Context $context): void\n",
      "{\n",
      "    $criteria = new Criteria();\n",
      "    $criteria->addFilter(new EqualsFilter('invoice_number', '12345'));\n",
      "\n",
      "    $invoices = $this->invoiceRepository->search($criteria, $context);\n",
      "}\n",
      "```\n",
      "\n",
      "This example will search for all invoices with the invoice number `12345` and return an `EntitySearchResult` containing all matched invoices. Since the `EntitySearchResult` is extending the `EntityCollection`, which is iterable, you could just iterate over the results using a `foreach`.\n"
     ]
    }
   ],
   "source": [
    "print(qa.run(prompt.format(question=\"\"\"\n",
    "I need a filter that searches for invoices. This option is not available in search preferences. Is it possible to search by invoice number?\n",
    "\"\"\")))"
   ]
  },
  {
   "cell_type": "code",
   "execution_count": 98,
   "id": "aba07a4b",
   "metadata": {},
   "outputs": [
    {
     "name": "stdout",
     "output_type": "stream",
     "text": [
      "\n",
      "\n",
      "You can use the `Shopware\\Core\\System\\SalesChannel\\SalesChannelContext` service to retrieve a customer's token and identifier. You can inject this service into your plugin class, and use it to get the customer's token:\n",
      "\n",
      "```php\n",
      "<?php\n",
      "\n",
      "use Shopware\\Core\\System\\SalesChannel\\SalesChannelContext;\n",
      "\n",
      "// ...\n",
      "\n",
      "public function __construct(SalesChannelContext $salesChannelContext)\n",
      "{\n",
      "    $this->salesChannelContext = $salesChannelContext;\n",
      "}\n",
      "\n",
      "public function getCustomerToken()\n",
      "{\n",
      "    $token = $this->salesChannelContext->getCustomer()->getToken();\n",
      "\n",
      "    return $token;\n",
      "}\n",
      "```\n",
      "\n",
      "You can use this token to securely access the shop's url, as well as the customer's identifier.\n"
     ]
    }
   ],
   "source": [
    "print(qa.run(prompt.format(question=\"\"\"\n",
    "I need to retrieve a customer connected to the storefront backend side to reward him in different ways.\n",
    "\n",
    "I created a plugin that extends the plugin.class of the plugins system.\n",
    "\n",
    "It fetches the customer on the store api using the route store-api/account/customer then it sends to my backend its identifier. I also resolve the shop_url of the admin api with window.location.protocol and window.location.hostname...\n",
    "\n",
    "This seems to me not secured or accurate (the domain can be different from the sales channel to the admin api) and I would like to know if it would be possible to fetch a secured unique customer's token that would allow me to resolve both the shop_url and the customer's identifier.\n",
    "\n",
    "I cannot find anything in the documentation that would help me securing that part of my app.\n",
    "\n",
    "Thanks.\n",
    "\"\"\")))"
   ]
  },
  {
   "cell_type": "code",
   "execution_count": null,
   "id": "baaf4617",
   "metadata": {},
   "outputs": [],
   "source": []
  }
 ],
 "metadata": {
  "kernelspec": {
   "display_name": "Python 3 (ipykernel)",
   "language": "python",
   "name": "python3"
  },
  "language_info": {
   "codemirror_mode": {
    "name": "ipython",
    "version": 3
   },
   "file_extension": ".py",
   "mimetype": "text/x-python",
   "name": "python",
   "nbconvert_exporter": "python",
   "pygments_lexer": "ipython3",
   "version": "3.11.1"
  }
 },
 "nbformat": 4,
 "nbformat_minor": 5
}
